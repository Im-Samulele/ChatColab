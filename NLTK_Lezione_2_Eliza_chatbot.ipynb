{
  "nbformat": 4,
  "nbformat_minor": 0,
  "metadata": {
    "colab": {
      "provenance": [],
      "include_colab_link": true
    },
    "kernelspec": {
      "name": "python3",
      "display_name": "Python 3"
    },
    "language_info": {
      "name": "python"
    }
  },
  "cells": [
    {
      "cell_type": "markdown",
      "metadata": {
        "id": "view-in-github",
        "colab_type": "text"
      },
      "source": [
        "<a href=\"https://colab.research.google.com/github/Im-Samulele/ChatColab/blob/main/NLTK_Lezione_2_Eliza_chatbot.ipynb\" target=\"_parent\"><img src=\"https://colab.research.google.com/assets/colab-badge.svg\" alt=\"Open In Colab\"/></a>"
      ]
    },
    {
      "cell_type": "code",
      "execution_count": null,
      "metadata": {
        "id": "o8Qj8h6Qv3Zz"
      },
      "outputs": [],
      "source": [
        "#Lezione 2 - 07/02/2025 NLTK https://www.nltk.org/index.html https://www.nltk.org/_modules/nltk/chat/eliza.html"
      ]
    },
    {
      "cell_type": "code",
      "execution_count": null,
      "metadata": {
        "id": "ra_kv1HfEZ9C",
        "colab": {
          "base_uri": "https://localhost:8080/"
        },
        "outputId": "7cdf98fa-1f4d-4586-ccdb-7f0c45d934de"
      },
      "outputs": [
        {
          "output_type": "stream",
          "name": "stdout",
          "text": [
            "Requirement already satisfied: nltk in /usr/local/lib/python3.11/dist-packages (3.9.1)\n",
            "Requirement already satisfied: click in /usr/local/lib/python3.11/dist-packages (from nltk) (8.1.8)\n",
            "Requirement already satisfied: joblib in /usr/local/lib/python3.11/dist-packages (from nltk) (1.4.2)\n",
            "Requirement already satisfied: regex>=2021.8.3 in /usr/local/lib/python3.11/dist-packages (from nltk) (2024.11.6)\n",
            "Requirement already satisfied: tqdm in /usr/local/lib/python3.11/dist-packages (from nltk) (4.67.1)\n"
          ]
        }
      ],
      "source": [
        "%pip install nltk"
      ]
    },
    {
      "cell_type": "markdown",
      "metadata": {
        "id": "Rw6sfAk7EZ9H"
      },
      "source": [
        "## NLTK - Eliza chatbot"
      ]
    },
    {
      "cell_type": "code",
      "execution_count": null,
      "metadata": {
        "id": "cL487onDEZ9I"
      },
      "outputs": [],
      "source": [
        "# Natural Language Toolkit: Eliza\n",
        "#\n",
        "# Copyright (C) 2001-2024 NLTK Project\n",
        "# Authors: Steven Bird <stevenbird1@gmail.com>\n",
        "#          Edward Loper <edloper@gmail.com>\n",
        "# URL: <https://www.nltk.org/>\n",
        "# For license information, see LICENSE.TXT\n",
        "\n",
        "# Based on an Eliza implementation by Joe Strout <joe@strout.net>,\n",
        "# Jeff Epler <jepler@inetnebr.com> and Jez Higgins <mailto:jez@jezuk.co.uk>.\n",
        "\n",
        "# a translation table used to convert things you say into things the\n",
        "# computer says back, e.g. \"I am\" --> \"you are\"\n",
        "\n",
        "# https://www.nltk.org/_modules/nltk/chat/eliza.html\n",
        "\n",
        "from nltk.chat.util import Chat, reflections\n"
      ]
    },
    {
      "cell_type": "code",
      "source": [
        "# a table of response pairs, where each pair consists of a\n",
        "# regular expression, and a list of possible responses,\n",
        "# with group-macros labelled as %1, %2.\n",
        "\n",
        "#NB: (.*) -> cattura qualsiasi sequenza di caratteri (.) di qualsiasi lunghezza (*).\n",
        "# %1 -> viene usato nelle risposte del chatbot per sostituire il testo catturato dal pattern regex.\n",
        "\n",
        "pairs = (\n",
        "    (\n",
        "        r\"I need (.*)\",\n",
        "        (\n",
        "            \"Why do you need %1?\",\n",
        "            \"Would it really help you to get %1?\",\n",
        "            \"Are you sure you need %1?\",\n",
        "        ),\n",
        "    ),\n",
        "    (\n",
        "        r\"Why don\\'t you (.*)\",\n",
        "        (\n",
        "            \"Do you really think I don't %1?\",\n",
        "            \"Perhaps eventually I will %1.\",\n",
        "            \"Do you really want me to %1?\",\n",
        "        ),\n",
        "    ),\n",
        "    (\n",
        "        r\"Why can\\'t I (.*)\",\n",
        "        (\n",
        "            \"Do you think you should be able to %1?\",\n",
        "            \"If you could %1, what would you do?\",\n",
        "            \"I don't know -- why can't you %1?\",\n",
        "            \"Have you really tried?\",\n",
        "        ),\n",
        "    ),\n",
        "    (\n",
        "        r\"I can\\'t (.*)\",\n",
        "        (\n",
        "            \"How do you know you can't %1?\",\n",
        "            \"Perhaps you could %1 if you tried.\",\n",
        "            \"What would it take for you to %1?\",\n",
        "        ),\n",
        "    ),\n",
        "    (\n",
        "        r\"I am (.*)\",\n",
        "        (\n",
        "            \"Did you come to me because you are %1?\",\n",
        "            \"How long have you been %1?\",\n",
        "            \"How do you feel about being %1?\",\n",
        "        ),\n",
        "    ),\n",
        "    (\n",
        "        r\"I\\'m (.*)\",\n",
        "        (\n",
        "            \"How does being %1 make you feel?\",\n",
        "            \"Do you enjoy being %1?\",\n",
        "            \"Why do you tell me you're %1?\",\n",
        "            \"Why do you think you're %1?\",\n",
        "        ),\n",
        "    ),\n",
        "    (\n",
        "        r\"Are you (.*)\",\n",
        "        (\n",
        "            \"Why does it matter whether I am %1?\",\n",
        "            \"Would you prefer it if I were not %1?\",\n",
        "            \"Perhaps you believe I am %1.\",\n",
        "            \"I may be %1 -- what do you think?\",\n",
        "        ),\n",
        "    ),\n",
        "    (\n",
        "        r\"What (.*)\",\n",
        "        (\n",
        "            \"Why do you ask?\",\n",
        "            \"How would an answer to that help you?\",\n",
        "            \"What do you think?\",\n",
        "        ),\n",
        "    ),\n",
        "    (\n",
        "        r\"How (.*)\",\n",
        "        (\n",
        "            \"How do you suppose?\",\n",
        "            \"Perhaps you can answer your own question.\",\n",
        "            \"What is it you're really asking?\",\n",
        "        ),\n",
        "    ),\n",
        "    (\n",
        "        r\"Because (.*)\",\n",
        "        (\n",
        "            \"Is that the real reason?\",\n",
        "            \"What other reasons come to mind?\",\n",
        "            \"Does that reason apply to anything else?\",\n",
        "            \"If %1, what else must be true?\",\n",
        "        ),\n",
        "    ),\n",
        "    (\n",
        "        r\"(.*) sorry (.*)\",\n",
        "        (\n",
        "            \"There are many times when no apology is needed.\",\n",
        "            \"What feelings do you have when you apologize?\",\n",
        "        ),\n",
        "    ),\n",
        "    (\n",
        "        r\"Hello(.*)\",\n",
        "        (\n",
        "            \"Hello... I'm glad you could drop by today.\",\n",
        "            \"Hi there... how are you today?\",\n",
        "            \"Hello, how are you feeling today?\",\n",
        "        ),\n",
        "    ),\n",
        "    (\n",
        "        r\"I think (.*)\",\n",
        "        (\"Do you doubt %1?\", \"Do you really think so?\", \"But you're not sure %1?\"),\n",
        "    ),\n",
        "    (\n",
        "        r\"(.*) friend (.*)\",\n",
        "        (\n",
        "            \"Tell me more about your friends.\",\n",
        "            \"When you think of a friend, what comes to mind?\",\n",
        "            \"Why don't you tell me about a childhood friend?\",\n",
        "        ),\n",
        "    ),\n",
        "    (r\"Yes\", (\"You seem quite sure.\", \"OK, but can you elaborate a bit?\")),\n",
        "    (\n",
        "        r\"(.*) computer(.*)\",\n",
        "        (\n",
        "            \"Are you really talking about me?\",\n",
        "            \"Does it seem strange to talk to a computer?\",\n",
        "            \"How do computers make you feel?\",\n",
        "            \"Do you feel threatened by computers?\",\n",
        "        ),\n",
        "    ),\n",
        "    (\n",
        "        r\"Is it (.*)\",\n",
        "        (\n",
        "            \"Do you think it is %1?\",\n",
        "            \"Perhaps it's %1 -- what do you think?\",\n",
        "            \"If it were %1, what would you do?\",\n",
        "            \"It could well be that %1.\",\n",
        "        ),\n",
        "    ),\n",
        "    (\n",
        "        r\"It is (.*)\",\n",
        "        (\n",
        "            \"You seem very certain.\",\n",
        "            \"If I told you that it probably isn't %1, what would you feel?\",\n",
        "        ),\n",
        "    ),\n",
        "    (\n",
        "        r\"Can you (.*)\",\n",
        "        (\n",
        "            \"What makes you think I can't %1?\",\n",
        "            \"If I could %1, then what?\",\n",
        "            \"Why do you ask if I can %1?\",\n",
        "        ),\n",
        "    ),\n",
        "    (\n",
        "        r\"Can I (.*)\",\n",
        "        (\n",
        "            \"Perhaps you don't want to %1.\",\n",
        "            \"Do you want to be able to %1?\",\n",
        "            \"If you could %1, would you?\",\n",
        "        ),\n",
        "    ),\n",
        "    (\n",
        "        r\"You are (.*)\",\n",
        "        (\n",
        "            \"Why do you think I am %1?\",\n",
        "            \"Does it please you to think that I'm %1?\",\n",
        "            \"Perhaps you would like me to be %1.\",\n",
        "            \"Perhaps you're really talking about yourself?\",\n",
        "        ),\n",
        "    ),\n",
        "    (\n",
        "        r\"You\\'re (.*)\",\n",
        "        (\n",
        "            \"Why do you say I am %1?\",\n",
        "            \"Why do you think I am %1?\",\n",
        "            \"Are we talking about you, or me?\",\n",
        "        ),\n",
        "    ),\n",
        "    (\n",
        "        r\"I don\\'t (.*)\",\n",
        "        (\"Don't you really %1?\", \"Why don't you %1?\", \"Do you want to %1?\"),\n",
        "    ),\n",
        "    (\n",
        "        r\"I feel (.*)\",\n",
        "        (\n",
        "            \"Good, tell me more about these feelings.\",\n",
        "            \"Do you often feel %1?\",\n",
        "            \"When do you usually feel %1?\",\n",
        "            \"When you feel %1, what do you do?\",\n",
        "        ),\n",
        "    ),\n",
        "    (\n",
        "        r\"I have (.*)\",\n",
        "        (\n",
        "            \"Why do you tell me that you've %1?\",\n",
        "            \"Have you really %1?\",\n",
        "            \"Now that you have %1, what will you do next?\",\n",
        "        ),\n",
        "    ),\n",
        "    (\n",
        "        r\"I would (.*)\",\n",
        "        (\n",
        "            \"Could you explain why you would %1?\",\n",
        "            \"Why would you %1?\",\n",
        "            \"Who else knows that you would %1?\",\n",
        "        ),\n",
        "    ),\n",
        "    (\n",
        "        r\"Is there (.*)\",\n",
        "        (\n",
        "            \"Do you think there is %1?\",\n",
        "            \"It's likely that there is %1.\",\n",
        "            \"Would you like there to be %1?\",\n",
        "        ),\n",
        "    ),\n",
        "    (\n",
        "        r\"My (.*)\",\n",
        "        (\n",
        "            \"I see, your %1.\",\n",
        "            \"Why do you say that your %1?\",\n",
        "            \"When your %1, how do you feel?\",\n",
        "        ),\n",
        "    ),\n",
        "    (\n",
        "        r\"You (.*)\",\n",
        "        (\n",
        "            \"We should be discussing you, not me.\",\n",
        "            \"Why do you say that about me?\",\n",
        "            \"Why do you care whether I %1?\",\n",
        "        ),\n",
        "    ),\n",
        "    (r\"Why (.*)\", (\"Why don't you tell me the reason why %1?\", \"Why do you think %1?\")),\n",
        "    (\n",
        "        r\"I want (.*)\",\n",
        "        (\n",
        "            \"What would it mean to you if you got %1?\",\n",
        "            \"Why do you want %1?\",\n",
        "            \"What would you do if you got %1?\",\n",
        "            \"If you got %1, then what would you do?\",\n",
        "        ),\n",
        "    ),\n",
        "    (\n",
        "        r\"(.*) mother(.*)\",\n",
        "        (\n",
        "            \"Tell me more about your mother.\",\n",
        "            \"What was your relationship with your mother like?\",\n",
        "            \"How do you feel about your mother?\",\n",
        "            \"How does this relate to your feelings today?\",\n",
        "            \"Good family relations are important.\",\n",
        "        ),\n",
        "    ),\n",
        "    (\n",
        "        r\"(.*) father(.*)\",\n",
        "        (\n",
        "            \"Tell me more about your father.\",\n",
        "            \"How did your father make you feel?\",\n",
        "            \"How do you feel about your father?\",\n",
        "            \"Does your relationship with your father relate to your feelings today?\",\n",
        "            \"Do you have trouble showing affection with your family?\",\n",
        "        ),\n",
        "    ),\n",
        "    (\n",
        "        r\"(.*) child(.*)\",\n",
        "        (\n",
        "            \"Did you have close friends as a child?\",\n",
        "            \"What is your favorite childhood memory?\",\n",
        "            \"Do you remember any dreams or nightmares from childhood?\",\n",
        "            \"Did the other children sometimes tease you?\",\n",
        "            \"How do you think your childhood experiences relate to your feelings today?\",\n",
        "        ),\n",
        "    ),\n",
        "    (\n",
        "        r\"(.*)\\?\",\n",
        "        (\n",
        "            \"Why do you ask that?\",\n",
        "            \"Please consider whether you can answer your own question.\",\n",
        "            \"Perhaps the answer lies within yourself?\",\n",
        "            \"Why don't you tell me?\",\n",
        "        ),\n",
        "    ),\n",
        "    (\n",
        "        r\"quit\",\n",
        "        (\n",
        "            \"Thank you for talking with me.\",\n",
        "            \"Good-bye.\",\n",
        "            \"Thank you, that will be $150.  Have a good day!\",\n",
        "        ),\n",
        "    ),\n",
        "    (\n",
        "        r\"(.*)\",\n",
        "        (\n",
        "            \"Please tell me more.\",\n",
        "            \"Let's change focus a bit... Tell me about your family.\",\n",
        "            \"Can you elaborate on that?\",\n",
        "            \"Why do you say that %1?\",\n",
        "            \"I see.\",\n",
        "            \"Very interesting.\",\n",
        "            \"%1.\",\n",
        "            \"I see.  And what does that tell you?\",\n",
        "            \"How does that make you feel?\",\n",
        "            \"How do you feel when you say that?\",\n",
        "        ),\n",
        "    ),\n",
        ")\n"
      ],
      "metadata": {
        "id": "9RvRn_3fLGAq"
      },
      "execution_count": null,
      "outputs": []
    },
    {
      "cell_type": "code",
      "source": [
        "type(pairs)"
      ],
      "metadata": {
        "colab": {
          "base_uri": "https://localhost:8080/"
        },
        "id": "Oz3SBV6YFREy",
        "outputId": "3c666f40-8817-4a14-ecf7-6cde12558116"
      },
      "execution_count": null,
      "outputs": [
        {
          "output_type": "execute_result",
          "data": {
            "text/plain": [
              "tuple"
            ]
          },
          "metadata": {},
          "execution_count": 4
        }
      ]
    },
    {
      "cell_type": "code",
      "execution_count": null,
      "metadata": {
        "id": "n1wge_mgEZ9J"
      },
      "outputs": [],
      "source": [
        "eliza_chatbot = Chat(pairs, reflections)\n"
      ]
    },
    {
      "cell_type": "code",
      "execution_count": null,
      "metadata": {
        "id": "em-MJU2oEZ9L",
        "colab": {
          "base_uri": "https://localhost:8080/",
          "height": 121
        },
        "outputId": "2e711db3-48f2-40d6-fd02-df0fddb6d171"
      },
      "outputs": [
        {
          "output_type": "execute_result",
          "data": {
            "text/plain": [
              "nltk.chat.util.Chat"
            ],
            "text/html": [
              "<div style=\"max-width:800px; border: 1px solid var(--colab-border-color);\"><style>\n",
              "      pre.function-repr-contents {\n",
              "        overflow-x: auto;\n",
              "        padding: 8px 12px;\n",
              "        max-height: 500px;\n",
              "      }\n",
              "\n",
              "      pre.function-repr-contents.function-repr-contents-collapsed {\n",
              "        cursor: pointer;\n",
              "        max-height: 100px;\n",
              "      }\n",
              "    </style>\n",
              "    <pre style=\"white-space: initial; background:\n",
              "         var(--colab-secondary-surface-color); padding: 8px 12px;\n",
              "         border-bottom: 1px solid var(--colab-border-color);\"><b>nltk.chat.util.Chat</b><br/>def __init__(pairs, reflections={})</pre><pre class=\"function-repr-contents function-repr-contents-collapsed\" style=\"\"><a class=\"filepath\" style=\"display:none\" href=\"#\">/usr/local/lib/python3.11/dist-packages/nltk/chat/util.py</a>&lt;no docstring&gt;</pre>\n",
              "      <script>\n",
              "      if (google.colab.kernel.accessAllowed && google.colab.files && google.colab.files.view) {\n",
              "        for (const element of document.querySelectorAll('.filepath')) {\n",
              "          element.style.display = 'block'\n",
              "          element.onclick = (event) => {\n",
              "            event.preventDefault();\n",
              "            event.stopPropagation();\n",
              "            google.colab.files.view(element.textContent, 34);\n",
              "          };\n",
              "        }\n",
              "      }\n",
              "      for (const element of document.querySelectorAll('.function-repr-contents')) {\n",
              "        element.onclick = (event) => {\n",
              "          event.preventDefault();\n",
              "          event.stopPropagation();\n",
              "          element.classList.toggle('function-repr-contents-collapsed');\n",
              "        };\n",
              "      }\n",
              "      </script>\n",
              "      </div>"
            ]
          },
          "metadata": {},
          "execution_count": 6
        }
      ],
      "source": [
        "type(eliza_chatbot)\n"
      ]
    },
    {
      "cell_type": "code",
      "execution_count": null,
      "metadata": {
        "id": "hS32qvM8EZ9L"
      },
      "outputs": [],
      "source": [
        "# simuliamo il terapista\n",
        "def eliza_chat():\n",
        "    print(\"Therapist\\n---------\")\n",
        "    print(\"Talk to the program by typing in plain English, using normal upper-\")\n",
        "    print('and lower-case letters and punctuation.  Enter \"quit\" when done.')\n",
        "    print(\"=\" * 72)\n",
        "    print(\"Hello.  How are you feeling today?\")\n",
        "\n",
        "    eliza_chatbot.converse() #avvia il loop di conversazione\n"
      ]
    },
    {
      "cell_type": "code",
      "execution_count": null,
      "metadata": {
        "id": "BfkONBkGEZ9M",
        "colab": {
          "base_uri": "https://localhost:8080/"
        },
        "outputId": "5d92a4cb-e0d6-420b-c7f8-3733efcc34cd"
      },
      "outputs": [
        {
          "output_type": "stream",
          "name": "stdout",
          "text": [
            "Therapist\n",
            "---------\n",
            "Talk to the program by typing in plain English, using normal upper-\n",
            "and lower-case letters and punctuation.  Enter \"quit\" when done.\n",
            "========================================================================\n",
            "Hello.  How are you feeling today?\n",
            ">I'm feeling sad\n",
            "Why do you think you're feeling sad?\n",
            ">I don't know\n",
            "Do you want to know?\n",
            ">yes\n",
            "OK, but can you elaborate a bit?\n",
            ">no i don't feel like\n",
            "How does that make you feel?\n",
            ">quit\n",
            "Thank you, that will be $150.  Have a good day!\n"
          ]
        }
      ],
      "source": [
        "eliza_chat()"
      ]
    },
    {
      "cell_type": "code",
      "source": [
        "#versione italiana"
      ],
      "metadata": {
        "id": "HOivhJfOQ-mg"
      },
      "execution_count": null,
      "outputs": []
    },
    {
      "cell_type": "code",
      "execution_count": null,
      "metadata": {
        "id": "mCflB0bHEZ9N"
      },
      "outputs": [],
      "source": [
        "coppie = (\n",
        "   (r\"Ho bisogno di (.*)\", (\n",
        "       \"Perché hai bisogno di %1?\",\n",
        "       \"Ti aiuterebbe davvero avere %1?\",\n",
        "       \"Sei sicuro di aver bisogno di %1?\",\n",
        "   )),\n",
        "   (r\"Perché non (.*)\", (\n",
        "       \"Pensi davvero che io non %1?\",\n",
        "       \"Forse prima o poi lo farò %1.\",\n",
        "       \"Vuoi davvero che io %1?\",\n",
        "   )),\n",
        "   (r\"Perché non posso (.*)\", (\n",
        "       \"Pensi che dovresti essere in grado di %1?\",\n",
        "       \"Se potessi %1, cosa faresti?\",\n",
        "       \"Non lo so -- perché non puoi %1?\",\n",
        "       \"Ci hai provato davvero?\",\n",
        "   )),\n",
        "   (r\"Non riesco a (.*)\", (\n",
        "       \"Come fai a sapere che non puoi %1?\",\n",
        "       \"Forse potresti %1 se ci provassi.\",\n",
        "       \"Cosa ti servirebbe per %1?\",\n",
        "   )),\n",
        "   (r\"Sono (.*)\", (\n",
        "       \"Sei venuto da me perché sei %1?\",\n",
        "       \"Da quanto tempo sei %1?\",\n",
        "       \"Come ti senti ad essere %1?\",\n",
        "   )),\n",
        "   (r\"Mi sento (.*)\", (\n",
        "       \"Come ti fa sentire essere %1?\",\n",
        "       \"Ti piace essere %1?\",\n",
        "       \"Perché mi dici che sei %1?\",\n",
        "   )),\n",
        "   (r\"Sei (.*)\", (\n",
        "       \"Perché ti importa se sono %1?\",\n",
        "       \"Preferiresti se non fossi %1?\",\n",
        "       \"Forse credi che io sia %1.\",\n",
        "   )),\n",
        "   (r\"Cosa (.*)\", (\n",
        "       \"Perché lo chiedi?\",\n",
        "       \"Come ti aiuterebbe una risposta?\",\n",
        "       \"Cosa ne pensi tu?\",\n",
        "   )),\n",
        "   (r\"Come (.*)\", (\n",
        "       \"Come pensi tu?\",\n",
        "       \"Forse puoi rispondere da solo alla tua domanda.\",\n",
        "       \"Cosa stai realmente chiedendo?\",\n",
        "   )),\n",
        "   (r\"Perché (.*)\", (\n",
        "       \"È questo il vero motivo?\",\n",
        "       \"Quali altri motivi ti vengono in mente?\",\n",
        "       \"Questo motivo si applica ad altre situazioni?\",\n",
        "   )),\n",
        "   (r\"(.*) scusa (.*)\", (\n",
        "       \"Non c'è bisogno di scusarsi.\",\n",
        "       \"Che sensazioni provi quando ti scusi?\",\n",
        "   )),\n",
        "   (r\"Ciao(.*)\", (\n",
        "       \"Ciao... Sono felice che tu sia passato oggi.\",\n",
        "       \"Ciao... come stai oggi?\",\n",
        "       \"Ciao, come ti senti oggi?\",\n",
        "   )),\n",
        "   (r\"Penso (.*)\", (\n",
        "       \"Dubiti di %1?\",\n",
        "       \"Lo pensi davvero?\",\n",
        "       \"Ma non sei sicuro di %1?\",\n",
        "   )),\n",
        "   (r\"(.*) amico (.*)\", (\n",
        "       \"Parlami dei tuoi amici.\",\n",
        "       \"Quando pensi a un amico, cosa ti viene in mente?\",\n",
        "       \"Raccontami di un amico d'infanzia.\",\n",
        "   )),\n",
        "   (r\"Sì\", (\n",
        "       \"Sembri molto sicuro.\",\n",
        "       \"OK, ma puoi spiegare meglio?\",\n",
        "   )),\n",
        "   (r\"(.*) computer(.*)\", (\n",
        "       \"Stai davvero parlando di me?\",\n",
        "       \"Ti sembra strano parlare con un computer?\",\n",
        "       \"Come ti fanno sentire i computer?\",\n",
        "   )),\n",
        "   (r\"(.*) madre(.*)\", (\n",
        "       \"Raccontami di tua madre.\",\n",
        "       \"Che rapporto avevi con tua madre?\",\n",
        "       \"Come ti senti riguardo tua madre?\",\n",
        "   )),\n",
        "   (r\"(.*) padre(.*)\", (\n",
        "       \"Parlami di tuo padre.\",\n",
        "       \"Come ti faceva sentire tuo padre?\",\n",
        "       \"Come ti senti riguardo tuo padre?\",\n",
        "   )),\n",
        "   (r\"(.*) bambino(.*)\", (\n",
        "       \"Avevi amici stretti da bambino?\",\n",
        "       \"Qual è il tuo ricordo preferito dell'infanzia?\",\n",
        "       \"Ricordi sogni o incubi dell'infanzia?\",\n",
        "   )),\n",
        "   (r\"(.*)\\?\", (\n",
        "       \"Perché lo chiedi?\",\n",
        "       \"Puoi trovare la risposta dentro di te?\",\n",
        "       \"Perché non me lo dici tu?\",\n",
        "   )),\n",
        "   (r\"esci\", (\n",
        "       \"Grazie per aver parlato con me.\",\n",
        "       \"Arrivederci.\",\n",
        "       \"Grazie, sono 150€. Buona giornata!\",\n",
        "   )),\n",
        "   (r\"(.*)\", (\n",
        "       \"Dimmi di più.\",\n",
        "       \"Cambiamo argomento... Parlami della tua famiglia.\",\n",
        "       \"Puoi spiegare meglio?\",\n",
        "       \"Perché dici che %1?\",\n",
        "       \"Capisco.\",\n",
        "       \"Molto interessante.\",\n",
        "       \"%1.\",\n",
        "       \"E questo cosa ti suggerisce?\",\n",
        "       \"Come ti fa sentire?\",\n",
        "   )),\n",
        ")"
      ]
    },
    {
      "cell_type": "code",
      "source": [
        "#modifico reflections con le trasformazioni dei pronomi in italiano\n",
        "reflections = {\n",
        "   \"sono\": \"sei\",\n",
        "   \"io\": \"tu\",\n",
        "   \"me\": \"te\",\n",
        "   \"mio\": \"tuo\",\n",
        "   \"mia\": \"tua\",\n",
        "   \"miei\": \"tuoi\",\n",
        "   \"mie\": \"tue\",\n",
        "   \"tu\": \"io\",\n",
        "   \"tuo\": \"mio\",\n",
        "   \"tua\": \"mia\",\n",
        "   \"tuoi\": \"miei\",\n",
        "   \"tue\": \"mie\",\n",
        "   \"nostro\": \"vostro\",\n",
        "   \"nostra\": \"vostra\",\n",
        "   \"nostri\": \"vostri\",\n",
        "   \"nostre\": \"vostre\",\n",
        "   \"mi\": \"ti\",\n",
        "   \"ti\": \"mi\",\n",
        "   \"vorrei\": \"vorresti\",\n",
        "   \"voglio\": \"vuoi\",\n",
        "   \"ho\": \"hai\",\n",
        "   \"hai\": \"ho\",\n",
        "   \"posso\": \"puoi\",\n",
        "   \"puoi\": \"posso\"\n",
        "}"
      ],
      "metadata": {
        "id": "TQ03uX-dMM9X"
      },
      "execution_count": null,
      "outputs": []
    },
    {
      "cell_type": "code",
      "execution_count": null,
      "metadata": {
        "id": "7cpNfNLYEZ9O"
      },
      "outputs": [],
      "source": [
        "pippo = Chat(coppie, reflections)"
      ]
    },
    {
      "cell_type": "code",
      "execution_count": null,
      "metadata": {
        "id": "zyGmIPX_EZ9P"
      },
      "outputs": [],
      "source": [
        "def pippo_chat():\n",
        "    print(\"Parla con Pippo lo psicologo\\n---------\")\n",
        "    print(\"Digita il testo nel box sotto.\")\n",
        "    print('Per uscire dal programma, scrivi \"quit\".')\n",
        "    print(\"=\" * 72)\n",
        "    print(\"Ciao, sono Pippo lo psicologo. Come ti senti oggi?\")\n",
        "\n",
        "    pippo.converse() #avvia il loop di conversazione"
      ]
    },
    {
      "cell_type": "code",
      "execution_count": null,
      "metadata": {
        "id": "TC1skDYEEZ9P",
        "colab": {
          "base_uri": "https://localhost:8080/"
        },
        "outputId": "90ecdb84-d1e1-4dcd-fe78-be73d0e4a082"
      },
      "outputs": [
        {
          "output_type": "stream",
          "name": "stdout",
          "text": [
            "Parla con Pippo lo psicologo\n",
            "---------\n",
            "Digita il testo nel box sotto.\n",
            "Per uscire dal programma, scrivi \"quit\".\n",
            "========================================================================\n",
            "Ciao, sono Pippo lo psicologo. Come ti senti oggi?\n",
            ">ma non lo so\n",
            "Dimmi di più.\n",
            ">cosa dovrei dire?\n",
            "Perché lo chiedi?\n",
            ">ma vedi tu, sei uno psicologo!\n",
            "ma vedi io, sei uno psicologo.\n",
            ">quit\n",
            "Come ti fa sentire?\n"
          ]
        }
      ],
      "source": [
        "pippo_chat()"
      ]
    },
    {
      "cell_type": "code",
      "execution_count": null,
      "metadata": {
        "id": "640d8o91EZ9w"
      },
      "outputs": [],
      "source": []
    },
    {
      "cell_type": "markdown",
      "source": [],
      "metadata": {
        "id": "ZGhRQPvGD3w8"
      }
    }
  ]
}